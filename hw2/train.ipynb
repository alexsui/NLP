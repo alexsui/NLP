{
 "cells": [
  {
   "cell_type": "code",
   "execution_count": 1,
   "metadata": {},
   "outputs": [
    {
     "name": "stderr",
     "output_type": "stream",
     "text": [
      "/home/samuel/.conda/envs/hw2/lib/python3.9/site-packages/tqdm/auto.py:21: TqdmWarning: IProgress not found. Please update jupyter and ipywidgets. See https://ipywidgets.readthedocs.io/en/stable/user_install.html\n",
      "  from .autonotebook import tqdm as notebook_tqdm\n"
     ]
    }
   ],
   "source": [
    "import torch\n",
    "import torch.nn as nn\n",
    "import numpy as np\n",
    "import pandas as pd\n",
    "from torch.utils.data import Dataset, DataLoader\n",
    "from transformers import AutoTokenizer, AutoModelForSequenceClassification\n",
    "from sklearn.preprocessing import MultiLabelBinarizer\n",
    "from typing import List\n",
    "import matplotlib.pyplot as plt"
   ]
  },
  {
   "cell_type": "code",
   "execution_count": 2,
   "metadata": {},
   "outputs": [],
   "source": [
    "train_data = pd.read_csv('dataset/train.tsv', sep='\\t')\n",
    "sample = pd.read_csv('dataset/sample_submission.csv')\n"
   ]
  },
  {
   "cell_type": "markdown",
   "metadata": {},
   "source": [
    "# EDA"
   ]
  },
  {
   "cell_type": "code",
   "execution_count": 3,
   "metadata": {},
   "outputs": [
    {
     "data": {
      "image/png": "[encoded data removed]",
      "text/plain": [
       "<Figure size 1500x600 with 1 Axes>"
      ]
     },
     "metadata": {},
     "output_type": "display_data"
    }
   ],
   "source": [
    "fig,ax =plt.subplots(figsize=(15,6))\n",
    "train_data.classes.hist(ax=ax,edgecolor='black')\n",
    "for rect in ax.patches:\n",
    "    height = rect.get_height()\n",
    "    ax.annotate(f'{int(height)}', xy=(rect.get_x()+rect.get_width()/2, height), \n",
    "                xytext=(0, 5), textcoords='offset points', ha='center', va='bottom') "
   ]
  },
  {
   "cell_type": "code",
   "execution_count": 4,
   "metadata": {},
   "outputs": [
    {
     "data": {
      "text/plain": [
       "(array(['OTHER', 'MS', 'PH', 'SR', 'AM', 'SF', 'OTHER,SF', 'AM,PH',\n",
       "        'PH,SF', 'MS,OTHER', 'MS,SF', 'AM,OTHER', 'OTHER,SR'], dtype=object),\n",
       " 24)"
      ]
     },
     "execution_count": 4,
     "metadata": {},
     "output_type": "execute_result"
    }
   ],
   "source": [
    "train_data.classes.unique(), train_data.source.nunique()"
   ]
  },
  {
   "cell_type": "code",
   "execution_count": 5,
   "metadata": {},
   "outputs": [
    {
     "data": {
      "text/plain": [
       "count    1443.000000\n",
       "mean       10.045738\n",
       "std         6.877317\n",
       "min         1.000000\n",
       "25%         6.000000\n",
       "50%         8.000000\n",
       "75%        13.000000\n",
       "max       109.000000\n",
       "Name: utterance, dtype: float64"
      ]
     },
     "execution_count": 5,
     "metadata": {},
     "output_type": "execute_result"
    }
   ],
   "source": [
    "data = train_data.utterance.apply(lambda x: len(x.split(\" \")))\n",
    "data.describe()"
   ]
  },
  {
   "cell_type": "code",
   "execution_count": 6,
   "metadata": {},
   "outputs": [],
   "source": [
    "class ConversationDataset(Dataset):\n",
    "    def __init__(self, filename: str, tokenizer, max_len: int = 25, k=3, mode='train'):\n",
    "        self.data = pd.read_csv(filename, sep='\\t')\n",
    "        self.tokenizer = tokenizer\n",
    "        self.max_len = max_len\n",
    "        self.mode = mode\n",
    "        self.classes_list  = pd.read_csv('dataset/sample_submission.csv').columns[1:].tolist()\n",
    "        self.k = k\n",
    "        if mode != \"test\":\n",
    "            self.classes = self.data['classes'].apply(lambda x: x.split(','))\n",
    "            self.mlb = MultiLabelBinarizer(classes=self.classes_list)\n",
    "            self.mlb.fit(self.classes)\n",
    "        \n",
    "    def __len__(self):\n",
    "        return len(self.data)\n",
    "\n",
    "    def __getitem__(self, idx):\n",
    "        \n",
    "        if self.mode !=\"train\":\n",
    "            utterance = self.data.iloc[idx]['utterance']\n",
    "            tokens = self.tokenizer(utterance, max_length=self.max_len, padding='max_length', truncation=True)\n",
    "            if self.mode == \"test\":\n",
    "                return {\n",
    "                    'input_ids': torch.tensor(tokens['input_ids'], dtype=torch.long),\n",
    "                    'attention_mask': torch.tensor(tokens['attention_mask'], dtype=torch.long),\n",
    "                }\n",
    "            elif self.mode ==\"valid\":\n",
    "                label = self.mlb.transform([self.classes.iloc[idx]])[0]\n",
    "                return {\n",
    "                    'input_ids': torch.tensor(tokens['input_ids'], dtype=torch.long),\n",
    "                    'attention_mask': torch.tensor(tokens['attention_mask'], dtype=torch.long),\n",
    "                    'labels': torch.tensor(label, dtype=torch.float)\n",
    "                }\n",
    "        else: # train mode \n",
    "            if idx<2:\n",
    "                utterance = self.data.iloc[idx]['utterance']\n",
    "                label = self.mlb.transform([self.classes.iloc[idx]])[0]\n",
    "            else:\n",
    "                utterance = ' '.join([self.data.iloc[max(0, idx - i)]['utterance'] for i in range(self.k)][::-1])\n",
    "                label = [self.classes.iloc[max(0, idx - i)][0] for i in range(self.k)]\n",
    "                label = self.mlb.transform([label])[0]\n",
    "            # print(\"utterance:\",utterance)\n",
    "            # print(\"original labels: \", label)\n",
    "            tokens = self.tokenizer(utterance, max_length=self.max_len, padding='max_length', truncation=True)\n",
    "            return {\n",
    "                'input_ids': torch.tensor(tokens['input_ids'], dtype=torch.long),\n",
    "                'attention_mask': torch.tensor(tokens['attention_mask'], dtype=torch.long),\n",
    "                'labels': torch.tensor(label, dtype=torch.float)\n",
    "            }\n",
    "        \n",
    "           "
   ]
  },
  {
   "cell_type": "code",
   "execution_count": 7,
   "metadata": {},
   "outputs": [],
   "source": [
    "import torch.nn.functional as F\n",
    "class AttentionWeightedAverage(nn.Module):\n",
    "    def __init__(self, hidden_dim):\n",
    "        super(AttentionWeightedAverage, self).__init__()\n",
    "        self.attention = nn.Linear(hidden_dim, 1)\n",
    "\n",
    "    def forward(self, x):\n",
    "        # Compute attention weights\n",
    "        attention_weights = F.softmax(self.attention(x), dim=1)\n",
    "        # Weighted sum of the inputs based on attention weights\n",
    "        weighted_average = torch.sum(x * attention_weights, dim=1)\n",
    "        return weighted_average\n",
    "\n",
    "class Classifier(nn.Module):\n",
    "    def __init__(self, embedding_dim, hidden_dim, num_classes, dropout=0.2):\n",
    "        super(Classifier, self).__init__()\n",
    "        # Pooling Layers\n",
    "        self.dropout = nn.Dropout(dropout)\n",
    "        self.global_max_pool = nn.AdaptiveMaxPool1d(1)\n",
    "        self.global_avg_pool = nn.AdaptiveAvgPool1d(1)\n",
    "        \n",
    "        self.attention = AttentionWeightedAverage(embedding_dim)\n",
    "\n",
    "        self.dense1 = nn.Linear(4*embedding_dim, hidden_dim)\n",
    "        self.dense2 = nn.Linear(hidden_dim, num_classes)\n",
    "    def forward(self, x):\n",
    "        # Concatenate the pooling layers and attention\n",
    "        max_pool = self.global_max_pool(x.permute(0,2,1)).squeeze(2)\n",
    "        avg_pool = self.global_avg_pool(x.permute(0,2,1)).squeeze(2)\n",
    "        attention_pool = self.attention(x)\n",
    "        last = x[:, -1, :]\n",
    "        # print(last.shape, max_pool.shape, avg_pool.shape, attention_pool.shape) #torch.Size([128, 256]) torch.Size([128, 256]) torch.Size([128, 256]) torch.Size([128, 256])\n",
    "        concatenated = torch.cat([last, max_pool, avg_pool, attention_pool], dim=1)\n",
    "        concatenated = self.dropout(concatenated)\n",
    "        x = F.relu(self.dense1(concatenated))\n",
    "        x = self.dense2(x)\n",
    "        \n",
    "        return x\n",
    "class RoBERTaClassifier(nn.Module):\n",
    "    def __init__(self, pretrained_model_name, num_classes):\n",
    "        super(RoBERTaClassifier, self).__init__()\n",
    "        self.roberta = AutoModel.from_pretrained(config['model_name'])\n",
    "        self.classifier = Classifier(self.roberta.config.hidden_size, 384, num_classes)\n",
    "        self.loss_function = nn.BCEWithLogitsLoss()\n",
    "    def forward(self, input_ids, attention_mask, labels=None):\n",
    "        outputs = self.roberta(input_ids=input_ids, attention_mask=attention_mask)\n",
    "        roberta_embedding = outputs.last_hidden_state\n",
    "        logits = self.classifier(roberta_embedding)\n",
    "        if labels is not None:\n",
    "            loss = self.loss_function(logits, labels)\n",
    "            return {\"logits\": logits, \"loss\": loss}\n",
    "        else:\n",
    "            return {\"logits\": logits}"
   ]
  },
  {
   "cell_type": "code",
   "execution_count": 8,
   "metadata": {},
   "outputs": [],
   "source": [
    "config ={\n",
    "    \"num_epoch\":50,\n",
    "    \"model_name\":\"voidism/diffcse-roberta-base-trans\", #\"voidism/diffcse-roberta-base-trans\"\n",
    "    \"batch_size\": 256,\n",
    "    \"max_len\": 70,\n",
    "    \"lr\": 1.964e-5,\n",
    "    \"threshold\":0.35,\n",
    "    \"lambda\":6.17e-3,\n",
    "    \"k\":1\n",
    "}"
   ]
  },
  {
   "cell_type": "code",
   "execution_count": 9,
   "metadata": {},
   "outputs": [],
   "source": [
    "# Tokenizer initialization\n",
    "tokenizer = AutoTokenizer.from_pretrained(config[\"model_name\"])\n",
    "# Load and prepare dataset\n",
    "train_dataset = ConversationDataset('dataset/train.tsv', tokenizer,max_len = config['max_len'],mode='train',k = config['k'])\n",
    "val_dataset = ConversationDataset('dataset/val.tsv', tokenizer,max_len = config['max_len'],mode='valid')\n",
    "test_dataset = ConversationDataset('dataset/test.tsv', tokenizer,max_len = config['max_len'], mode='test')\n",
    "\n",
    "#DataLoader initialization\n",
    "train_dataloader = DataLoader(train_dataset, batch_size=config['batch_size'], shuffle=True)\n",
    "val_dataloader = DataLoader(val_dataset, batch_size=config['batch_size'], shuffle=False)\n",
    "test_dataloader = DataLoader(test_dataset, batch_size=1, shuffle=False)"
   ]
  },
  {
   "cell_type": "code",
   "execution_count": 10,
   "metadata": {},
   "outputs": [],
   "source": [
    "from tqdm import tqdm\n",
    "from pathlib import Path\n",
    "from sklearn.metrics import f1_score\n",
    "\n",
    "class Trainer(object):\n",
    "    def __init__(self, model, opt, device, config):\n",
    "        print(config)\n",
    "        self.model = model\n",
    "        self.device = device\n",
    "        self.optimizer = opt\n",
    "        self.threshold = config[\"threshold\"]\n",
    "        self.train_loss_function = nn.BCEWithLogitsLoss()\n",
    "        self.test_loss_function = nn.BCEWithLogitsLoss()\n",
    "        self.classes = list(pd.read_csv(\"./dataset/sample_submission.csv\").columns[1:])\n",
    "        self.lambda_ = config[\"lambda\"]\n",
    "    def train_step(self, train_dataloader):\n",
    "        train_acc = 0\n",
    "        train_loss = 0\n",
    "        self.model.train()\n",
    "        for batch in train_dataloader:\n",
    "            batch = {k: v.to(self.device) for k, v in batch.items()}\n",
    "            self.optimizer.zero_grad()\n",
    "            outputs = self.model(input_ids=batch['input_ids'], attention_mask=batch['attention_mask'], labels=batch['labels'])\n",
    "            # loss = outputs.loss\n",
    "            loss = outputs[\"loss\"]\n",
    "            l2_reg = torch.tensor(0.).to(self.device)\n",
    "            for param in self.model.parameters():\n",
    "                l2_reg += torch.norm(param)\n",
    "            loss += self.lambda_ * l2_reg\n",
    "            loss.backward()\n",
    "            self.optimizer.step()\n",
    "            train_loss+=loss.item()\n",
    "            # logits = outputs.logits\n",
    "            logits = outputs[\"logits\"]\n",
    "            pred_y = (torch.sigmoid(logits)>self.threshold).int()\n",
    "            pred_y = pred_y.cpu().detach().numpy()\n",
    "            labels = batch['labels'].cpu().detach().numpy()\n",
    "            macro_f1 = f1_score(labels, pred_y, average='macro', zero_division=0)\n",
    "            train_acc += macro_f1\n",
    "        return train_loss/len(train_dataloader), train_acc/len(train_dataloader)\n",
    "\n",
    "    def val_step(self, val_dataloader): \n",
    "        test_acc = 0\n",
    "        test_loss = 0\n",
    "        self.model.eval()\n",
    "        with torch.inference_mode():\n",
    "            for batch in val_dataloader:\n",
    "                batch = {k: v.to(self.device) for k, v in batch.items()}\n",
    "                outputs = self.model(input_ids=batch['input_ids'], attention_mask=batch['attention_mask'], labels=batch['labels'])\n",
    "                labels = batch['labels'].cpu().detach().numpy()\n",
    "                # logits = outputs.logits\n",
    "                logits = outputs[\"logits\"]\n",
    "                pred_y = (torch.sigmoid(logits)>self.threshold).int()\n",
    "                pred_y = pred_y.cpu().detach().numpy()\n",
    "                macro_f1 = f1_score(labels, pred_y, average='macro', zero_division=0)\n",
    "                test_acc += macro_f1\n",
    "                # test_loss += outputs.loss.item()\n",
    "                test_loss += outputs[\"loss\"].item()\n",
    "        return test_loss/len(val_dataloader), test_acc/len(val_dataloader)\n",
    "    def test_step(self, test_dataloader): \n",
    "        self.model.eval()\n",
    "        all_data =np.zeros((len(test_dataloader),6))\n",
    "        with torch.inference_mode():\n",
    "            for i,batch in enumerate(test_dataloader):\n",
    "                batch = {k: v.to(self.device) for k, v in batch.items()}\n",
    "                logits = self.model(input_ids=batch['input_ids'], attention_mask=batch['attention_mask'])[\"logits\"]\n",
    "                pred_y = (torch.sigmoid(logits)>self.threshold).int()\n",
    "                pred_y = pred_y.cpu().detach().numpy()\n",
    "                all_data[i] = np.expand_dims(pred_y,0)\n",
    "        df =pd.DataFrame(all_data, columns= self.classes)\n",
    "        return df\n",
    "    def train(self, epochs, train_dataloader, val_dataloader, patience, model_name, scheduler):\n",
    "        last_loss = float(\"inf\")\n",
    "        best_val_f1 =float(\"-inf\")\n",
    "        cur = 0\n",
    "        results ={\n",
    "            \"train_loss\":[],\n",
    "            \"train_acc\":[],\n",
    "            \"val_loss\":[],\n",
    "            \"val_acc\":[]\n",
    "        }\n",
    "        for epoch in range(epochs):\n",
    "            train_loss, train_acc = self.train_step(train_dataloader)\n",
    "            test_loss, test_acc = self.val_step(val_dataloader)\n",
    "            if scheduler:    \n",
    "                scheduler.step()\n",
    "            # print(\"lr:\",scheduler.get_last_lr())\n",
    "            if (epoch+1)%5 == 0:\n",
    "                if test_loss > last_loss:\n",
    "                    cur += 1\n",
    "                    print('trigger times:', cur)\n",
    "                    if cur >= patience:\n",
    "                        print(\"early stop !\")\n",
    "                        return results\n",
    "                else:\n",
    "                    cur = 0\n",
    "            last_loss = test_loss\n",
    "            print(\n",
    "            f\"Epoch: {epoch+1} | \"\n",
    "            f\"train_loss: {train_loss:.4f} | \"\n",
    "            f\"train_acc: {train_acc:.4f} | \"\n",
    "            f\"val_loss: {test_loss:.4f} | \"\n",
    "            f\"val_acc: {test_acc:.4f}\"\n",
    "            )\n",
    "\n",
    "            results[\"train_loss\"].append(train_loss)\n",
    "            results[\"train_acc\"].append(train_acc)\n",
    "            results[\"val_loss\"].append(test_loss)\n",
    "            results[\"val_acc\"].append(test_acc)\n",
    "            \n",
    "            if (epoch+1)%10 == 0:\n",
    "                MODEL_PATH = Path(\"models/\"+model_name)\n",
    "                MODEL_PATH.mkdir(parents=True, \n",
    "                                exist_ok=True\n",
    "                )\n",
    "\n",
    "                MODEL_NAME = f\"model_{epoch+1}.pth\"\n",
    "                MODEL_SAVE_PATH = MODEL_PATH / MODEL_NAME\n",
    "                print(f\"Saving model to: {MODEL_SAVE_PATH}\")\n",
    "                torch.save(obj=self.model.state_dict(),\n",
    "                        f=MODEL_SAVE_PATH)\n",
    "            if best_val_f1<test_acc:\n",
    "                best_val_f1 = test_acc\n",
    "                MODEL_PATH = Path(\"models/\"+model_name)\n",
    "                MODEL_PATH.mkdir(parents=True, \n",
    "                                exist_ok=True\n",
    "                )\n",
    "\n",
    "                MODEL_NAME = f\"best_model.pth\"\n",
    "                MODEL_SAVE_PATH = MODEL_PATH / MODEL_NAME\n",
    "                print(f\"Saving model to: {MODEL_SAVE_PATH}\")\n",
    "                torch.save(obj=self.model.state_dict(),\n",
    "                        f=MODEL_SAVE_PATH)\n",
    "        # MODEL_PATH = Path(\"models/\"+model_name)\n",
    "        # MODEL_PATH.mkdir(parents=True, exist_ok=True)\n",
    "        # # torch.save(obj=self.model.state_dict(),\n",
    "        # #                 f=MODEL_PATH/f\"best_model_E{epoch}.pth\")\n",
    "        return results"
   ]
  },
  {
   "cell_type": "code",
   "execution_count": 11,
   "metadata": {},
   "outputs": [
    {
     "name": "stderr",
     "output_type": "stream",
     "text": [
      "Some weights of the model checkpoint at voidism/diffcse-roberta-base-trans were not used when initializing RobertaModel: ['generator.roberta.encoder.layer.5.intermediate.dense.bias', 'mlp.net.1.running_mean', 'aux_bert.encoder.layer.1.attention.self.query.weight', 'aux_bert.encoder.layer.3.intermediate.dense.weight', 'aux_bert.encoder.layer.6.attention.self.key.weight', 'aux_bert.encoder.layer.2.attention.output.dense.bias', 'generator.roberta.encoder.layer.1.attention.self.key.bias', 'generator.roberta.encoder.layer.2.attention.output.dense.bias', 'aux_bert.encoder.layer.9.intermediate.dense.bias', 'generator.roberta.encoder.layer.4.attention.output.LayerNorm.weight', 'lm_head.decoder.weight', 'aux_bert.encoder.layer.10.attention.self.key.weight', 'aux_bert.encoder.layer.10.attention.output.LayerNorm.bias', 'aux_bert.encoder.layer.8.output.LayerNorm.weight', 'aux_bert.encoder.layer.8.output.dense.weight', 'generator.roberta.encoder.layer.4.output.dense.weight', 'generator.roberta.encoder.layer.0.attention.output.dense.bias', 'generator.roberta.encoder.layer.0.output.LayerNorm.bias', 'generator.roberta.encoder.layer.1.output.dense.bias', 'lm_head.decoder.bias', 'aux_bert.encoder.layer.6.attention.self.key.bias', 'aux_bert.encoder.layer.11.attention.output.LayerNorm.weight', 'generator.roberta.encoder.layer.4.output.LayerNorm.weight', 'aux_bert.encoder.layer.7.attention.self.key.weight', 'aux_bert.encoder.layer.6.attention.output.LayerNorm.bias', 'aux_bert.encoder.layer.11.attention.self.query.weight', 'aux_bert.encoder.layer.8.attention.self.query.bias', 'aux_bert.encoder.layer.7.attention.output.dense.bias', 'aux_bert.encoder.layer.11.output.LayerNorm.weight', 'aux_bert.encoder.layer.2.attention.output.LayerNorm.weight', 'aux_bert.encoder.layer.9.output.dense.weight', 'aux_bert.embeddings.token_type_embeddings.weight', 'aux_bert.encoder.layer.11.attention.self.query.bias', 'mlp.net.4.running_mean', 'aux_bert.encoder.layer.7.intermediate.dense.weight', 'lm_head.layer_norm.bias', 'aux_bert.encoder.layer.3.attention.self.query.weight', 'generator.roberta.encoder.layer.0.attention.self.key.weight', 'aux_bert.encoder.layer.3.attention.output.LayerNorm.weight', 'generator.roberta.encoder.layer.5.attention.self.key.weight', 'aux_bert.encoder.layer.9.attention.self.value.weight', 'mlp.net.1.weight', 'generator.roberta.encoder.layer.4.attention.self.query.bias', 'generator.roberta.encoder.layer.2.attention.self.query.weight', 'aux_bert.encoder.layer.0.intermediate.dense.bias', 'aux_bert.encoder.layer.8.attention.self.key.bias', 'aux_bert.encoder.layer.4.attention.self.query.bias', 'aux_bert.encoder.layer.9.attention.output.dense.weight', 'aux_bert.encoder.layer.11.attention.self.value.weight', 'aux_bert.encoder.layer.0.output.LayerNorm.bias', 'aux_bert.encoder.layer.2.output.LayerNorm.bias', 'aux_bert.encoder.layer.2.attention.self.query.bias', 'aux_bert.encoder.layer.10.intermediate.dense.weight', 'generator.roberta.encoder.layer.5.output.dense.bias', 'generator.roberta.encoder.layer.2.output.LayerNorm.weight', 'generator.roberta.encoder.layer.4.attention.output.LayerNorm.bias', 'aux_bert.encoder.layer.0.attention.self.key.weight', 'aux_bert.encoder.layer.4.attention.output.LayerNorm.bias', 'generator.roberta.encoder.layer.3.attention.self.key.bias', 'aux_bert.encoder.layer.8.attention.self.value.bias', 'aux_bert.encoder.layer.1.output.dense.weight', 'aux_bert.encoder.layer.11.attention.self.key.bias', 'aux_bert.encoder.layer.8.attention.output.LayerNorm.weight', 'generator.roberta.encoder.layer.1.attention.output.LayerNorm.bias', 'aux_bert.encoder.layer.0.attention.output.LayerNorm.bias', 'generator.roberta.encoder.layer.2.attention.output.LayerNorm.bias', 'generator.roberta.encoder.layer.2.attention.self.value.weight', 'generator.roberta.encoder.layer.3.output.dense.bias', 'generator.roberta.encoder.layer.0.output.dense.bias', 'generator.roberta.encoder.layer.5.attention.output.dense.weight', 'generator.roberta.encoder.layer.3.intermediate.dense.weight', 'generator.roberta.embeddings.position_ids', 'generator.roberta.encoder.layer.1.attention.self.value.bias', 'generator.roberta.encoder.layer.3.attention.output.LayerNorm.weight', 'aux_bert.encoder.layer.2.attention.self.key.bias', 'aux_bert.encoder.layer.2.intermediate.dense.weight', 'generator.roberta.encoder.layer.1.output.LayerNorm.weight', 'aux_bert.encoder.layer.10.attention.self.value.weight', 'aux_bert.encoder.layer.11.output.LayerNorm.bias', 'aux_bert.encoder.layer.6.output.dense.weight', 'aux_bert.encoder.layer.3.output.LayerNorm.weight', 'aux_bert.encoder.layer.8.output.LayerNorm.bias', 'generator.roberta.encoder.layer.4.intermediate.dense.bias', 'generator.roberta.encoder.layer.1.attention.output.dense.weight', 'aux_bert.encoder.layer.0.attention.output.dense.bias', 'aux_bert.encoder.layer.5.attention.self.key.weight', 'aux_bert.encoder.layer.0.output.LayerNorm.weight', 'aux_bert.encoder.layer.0.attention.self.key.bias', 'aux_bert.encoder.layer.7.attention.self.value.weight', 'aux_bert.encoder.layer.4.output.LayerNorm.weight', 'aux_bert.encoder.layer.1.attention.self.value.weight', 'generator.roberta.encoder.layer.3.attention.self.query.bias', 'aux_bert.encoder.layer.10.intermediate.dense.bias', 'aux_bert.encoder.layer.11.attention.self.key.weight', 'aux_bert.encoder.layer.2.output.dense.bias', 'generator.roberta.encoder.layer.4.output.LayerNorm.bias', 'generator.roberta.encoder.layer.2.attention.self.key.bias', 'mlp.net.1.bias', 'generator.roberta.encoder.layer.4.intermediate.dense.weight', 'aux_bert.encoder.layer.3.attention.self.value.weight', 'aux_bert.encoder.layer.6.attention.output.LayerNorm.weight', 'aux_bert.encoder.layer.5.attention.self.query.bias', 'aux_bert.encoder.layer.5.intermediate.dense.bias', 'generator.roberta.encoder.layer.2.intermediate.dense.bias', 'aux_bert.encoder.layer.1.attention.self.key.weight', 'aux_bert.encoder.layer.7.attention.self.value.bias', 'aux_bert.encoder.layer.9.attention.self.query.weight', 'generator.roberta.encoder.layer.0.attention.self.value.weight', 'aux_bert.encoder.layer.3.attention.self.query.bias', 'generator.roberta.encoder.layer.0.attention.self.key.bias', 'aux_bert.encoder.layer.2.output.dense.weight', 'generator.roberta.encoder.layer.5.attention.self.query.bias', 'generator.roberta.encoder.layer.3.attention.self.key.weight', 'aux_bert.encoder.layer.6.intermediate.dense.bias', 'lm_head.layer_norm.weight', 'aux_bert.encoder.layer.1.output.LayerNorm.bias', 'generator.roberta.encoder.layer.4.attention.output.dense.bias', 'generator.roberta.embeddings.LayerNorm.bias', 'aux_bert.encoder.layer.5.attention.output.dense.bias', 'aux_bert.encoder.layer.6.attention.output.dense.weight', 'aux_bert.encoder.layer.11.intermediate.dense.bias', 'lm_head.dense.weight', 'aux_bert.embeddings.LayerNorm.weight', 'generator.roberta.encoder.layer.5.output.LayerNorm.weight', 'generator.roberta.embeddings.LayerNorm.weight', 'aux_bert.encoder.layer.11.output.dense.bias', 'generator.roberta.encoder.layer.5.attention.self.value.weight', 'aux_bert.encoder.layer.6.attention.self.query.bias', 'generator.roberta.encoder.layer.1.attention.self.key.weight', 'generator.roberta.encoder.layer.0.attention.output.LayerNorm.bias', 'aux_bert.encoder.layer.4.attention.self.key.bias', 'generator.roberta.encoder.layer.3.attention.self.value.bias', 'aux_bert.encoder.layer.3.attention.self.key.weight', 'aux_bert.encoder.layer.2.attention.self.key.weight', 'aux_bert.encoder.layer.1.attention.output.dense.weight', 'aux_bert.encoder.layer.9.output.LayerNorm.bias', 'generator.roberta.encoder.layer.4.attention.self.value.weight', 'generator.roberta.encoder.layer.5.output.LayerNorm.bias', 'generator.roberta.encoder.layer.5.attention.output.LayerNorm.bias', 'mlp.net.1.num_batches_tracked', 'aux_bert.encoder.layer.1.intermediate.dense.weight', 'aux_bert.embeddings.word_embeddings.weight', 'generator.lm_head.layer_norm.bias', 'aux_bert.encoder.layer.4.attention.self.key.weight', 'mlp.net.0.weight', 'aux_bert.encoder.layer.1.attention.self.query.bias', 'aux_bert.encoder.layer.10.attention.self.value.bias', 'aux_bert.encoder.layer.4.output.LayerNorm.bias', 'generator.roberta.encoder.layer.0.intermediate.dense.bias', 'generator.roberta.encoder.layer.0.attention.self.query.bias', 'aux_bert.encoder.layer.0.attention.self.value.weight', 'aux_bert.encoder.layer.9.output.dense.bias', 'generator.roberta.encoder.layer.0.attention.output.LayerNorm.weight', 'aux_bert.encoder.layer.5.attention.self.query.weight', 'aux_bert.encoder.layer.8.attention.self.query.weight', 'aux_bert.encoder.layer.7.intermediate.dense.bias', 'aux_bert.encoder.layer.4.output.dense.weight', 'aux_bert.encoder.layer.2.attention.self.value.weight', 'aux_bert.encoder.layer.9.attention.self.value.bias', 'generator.roberta.encoder.layer.3.attention.output.LayerNorm.bias', 'generator.roberta.encoder.layer.2.output.dense.weight', 'aux_bert.encoder.layer.0.attention.output.LayerNorm.weight', 'aux_bert.encoder.layer.9.attention.self.key.weight', 'aux_bert.encoder.layer.0.attention.self.query.bias', 'generator.roberta.encoder.layer.2.attention.self.query.bias', 'mlp.net.3.weight', 'aux_bert.encoder.layer.4.attention.self.value.weight', 'aux_bert.encoder.layer.0.attention.self.value.bias', 'aux_bert.encoder.layer.3.attention.output.dense.weight', 'aux_bert.encoder.layer.10.attention.self.query.weight', 'aux_bert.encoder.layer.3.output.dense.bias', 'aux_bert.encoder.layer.7.attention.output.LayerNorm.bias', 'generator.roberta.encoder.layer.2.output.LayerNorm.bias', 'aux_bert.encoder.layer.1.attention.output.dense.bias', 'generator.roberta.embeddings.position_embeddings.weight', 'generator.roberta.encoder.layer.0.intermediate.dense.weight', 'aux_bert.encoder.layer.8.attention.output.LayerNorm.bias', 'aux_bert.encoder.layer.4.attention.self.value.bias', 'aux_bert.encoder.layer.6.attention.self.value.bias', 'aux_bert.encoder.layer.9.output.LayerNorm.weight', 'generator.roberta.encoder.layer.1.attention.self.value.weight', 'generator.roberta.encoder.layer.3.intermediate.dense.bias', 'aux_bert.encoder.layer.5.output.LayerNorm.weight', 'aux_bert.encoder.layer.10.attention.self.query.bias', 'aux_bert.encoder.layer.5.output.dense.bias', 'generator.lm_head.decoder.weight', 'generator.roberta.encoder.layer.1.output.LayerNorm.bias', 'aux_bert.encoder.layer.3.output.LayerNorm.bias', 'aux_bert.encoder.layer.6.output.LayerNorm.weight', 'aux_bert.encoder.layer.8.output.dense.bias', 'generator.roberta.encoder.layer.5.attention.self.value.bias', 'aux_bert.encoder.layer.6.attention.self.query.weight', 'aux_bert.encoder.layer.10.output.LayerNorm.weight', 'generator.roberta.encoder.layer.5.output.dense.weight', 'aux_bert.encoder.layer.11.output.dense.weight', 'generator.roberta.encoder.layer.1.attention.output.LayerNorm.weight', 'aux_bert.encoder.layer.2.attention.output.dense.weight', 'generator.roberta.encoder.layer.4.attention.output.dense.weight', 'aux_bert.encoder.layer.11.attention.output.dense.bias', 'aux_bert.encoder.layer.7.attention.self.key.bias', 'aux_bert.encoder.layer.5.attention.self.value.bias', 'aux_bert.embeddings.LayerNorm.bias', 'aux_bert.encoder.layer.5.attention.output.LayerNorm.weight', 'generator.roberta.encoder.layer.4.output.dense.bias', 'aux_bert.encoder.layer.7.output.dense.bias', 'generator.roberta.embeddings.word_embeddings.weight', 'generator.roberta.encoder.layer.5.intermediate.dense.weight', 'aux_bert.encoder.layer.5.attention.output.LayerNorm.bias', 'generator.roberta.encoder.layer.3.attention.output.dense.bias', 'generator.roberta.encoder.layer.5.attention.self.key.bias', 'aux_bert.encoder.layer.6.output.dense.bias', 'generator.roberta.encoder.layer.3.output.LayerNorm.bias', 'aux_bert.encoder.layer.6.output.LayerNorm.bias', 'aux_bert.encoder.layer.11.attention.self.value.bias', 'generator.roberta.encoder.layer.0.attention.self.value.bias', 'aux_bert.encoder.layer.7.output.LayerNorm.bias', 'aux_bert.encoder.layer.4.intermediate.dense.bias', 'aux_bert.encoder.layer.10.output.dense.weight', 'aux_bert.encoder.layer.8.attention.self.value.weight', 'aux_bert.encoder.layer.2.attention.output.LayerNorm.bias', 'aux_bert.encoder.layer.10.attention.output.LayerNorm.weight', 'aux_bert.encoder.layer.5.attention.self.value.weight', 'mlp.net.4.running_var', 'generator.roberta.encoder.layer.0.output.dense.weight', 'generator.roberta.encoder.layer.2.attention.self.value.bias', 'aux_bert.encoder.layer.5.attention.self.key.bias', 'aux_bert.encoder.layer.7.attention.output.dense.weight', 'aux_bert.encoder.layer.3.attention.output.LayerNorm.bias', 'generator.roberta.encoder.layer.2.intermediate.dense.weight', 'generator.roberta.encoder.layer.3.attention.output.dense.weight', 'aux_bert.encoder.layer.10.attention.self.key.bias', 'mlp.net.1.running_var', 'lm_head.dense.bias', 'generator.roberta.encoder.layer.5.attention.output.LayerNorm.weight', 'aux_bert.encoder.layer.11.attention.output.LayerNorm.bias', 'generator.roberta.encoder.layer.4.attention.self.key.bias', 'generator.roberta.encoder.layer.1.output.dense.weight', 'generator.roberta.encoder.layer.3.attention.self.query.weight', 'generator.roberta.encoder.layer.4.attention.self.value.bias', 'aux_bert.encoder.layer.9.attention.self.query.bias', 'generator.roberta.embeddings.token_type_embeddings.weight', 'aux_bert.encoder.layer.3.intermediate.dense.bias', 'aux_bert.encoder.layer.9.intermediate.dense.weight', 'aux_bert.encoder.layer.5.intermediate.dense.weight', 'aux_bert.encoder.layer.7.attention.output.LayerNorm.weight', 'aux_bert.embeddings.position_embeddings.weight', 'aux_bert.encoder.layer.9.attention.output.LayerNorm.weight', 'generator.roberta.encoder.layer.0.attention.self.query.weight', 'generator.roberta.encoder.layer.1.intermediate.dense.weight', 'aux_bert.encoder.layer.2.output.LayerNorm.weight', 'aux_bert.encoder.layer.1.attention.self.key.bias', 'aux_bert.encoder.layer.7.attention.self.query.bias', 'generator.lm_head.dense.weight', 'aux_bert.encoder.layer.7.attention.self.query.weight', 'generator.roberta.encoder.layer.2.attention.self.key.weight', 'aux_bert.encoder.layer.2.intermediate.dense.bias', 'aux_bert.encoder.layer.4.attention.self.query.weight', 'aux_bert.encoder.layer.8.intermediate.dense.weight', 'mlp.net.4.num_batches_tracked', 'aux_bert.encoder.layer.8.attention.output.dense.bias', 'generator.lm_head.decoder.bias', 'aux_bert.encoder.layer.5.attention.output.dense.weight', 'aux_bert.encoder.layer.5.output.dense.weight', 'aux_bert.encoder.layer.10.attention.output.dense.weight', 'aux_bert.encoder.layer.4.output.dense.bias', 'generator.roberta.encoder.layer.3.attention.self.value.weight', 'aux_bert.encoder.layer.6.attention.output.dense.bias', 'aux_bert.encoder.layer.1.attention.output.LayerNorm.bias', 'aux_bert.encoder.layer.11.intermediate.dense.weight', 'aux_bert.encoder.layer.0.output.dense.bias', 'aux_bert.encoder.layer.9.attention.self.key.bias', 'generator.roberta.encoder.layer.1.intermediate.dense.bias', 'aux_bert.encoder.layer.0.intermediate.dense.weight', 'aux_bert.encoder.layer.9.attention.output.dense.bias', 'aux_bert.encoder.layer.8.attention.output.dense.weight', 'generator.roberta.encoder.layer.2.attention.output.LayerNorm.weight', 'aux_bert.encoder.layer.4.attention.output.dense.weight', 'aux_bert.encoder.layer.7.output.dense.weight', 'aux_bert.encoder.layer.4.attention.output.dense.bias', 'aux_bert.encoder.layer.1.attention.self.value.bias', 'aux_bert.encoder.layer.2.attention.self.value.bias', 'lm_head.bias', 'aux_bert.encoder.layer.5.output.LayerNorm.bias', 'aux_bert.encoder.layer.3.attention.self.key.bias', 'aux_bert.encoder.layer.0.attention.self.query.weight', 'generator.roberta.encoder.layer.5.attention.output.dense.bias', 'generator.roberta.encoder.layer.0.output.LayerNorm.weight', 'generator.lm_head.bias', 'generator.lm_head.dense.bias', 'aux_bert.encoder.layer.1.output.dense.bias', 'aux_bert.encoder.layer.10.output.dense.bias', 'aux_bert.encoder.layer.2.attention.self.query.weight', 'aux_bert.encoder.layer.7.output.LayerNorm.weight', 'aux_bert.encoder.layer.4.intermediate.dense.weight', 'generator.lm_head.layer_norm.weight', 'generator.roberta.encoder.layer.4.attention.self.key.weight', 'aux_bert.encoder.layer.10.output.LayerNorm.bias', 'aux_bert.encoder.layer.9.attention.output.LayerNorm.bias', 'aux_bert.encoder.layer.3.attention.self.value.bias', 'aux_bert.encoder.layer.0.attention.output.dense.weight', 'generator.roberta.encoder.layer.2.output.dense.bias', 'aux_bert.encoder.layer.8.intermediate.dense.bias', 'generator.roberta.encoder.layer.4.attention.self.query.weight', 'generator.roberta.encoder.layer.1.attention.output.dense.bias', 'generator.roberta.encoder.layer.3.output.LayerNorm.weight', 'generator.roberta.encoder.layer.1.attention.self.query.weight', 'aux_bert.encoder.layer.8.attention.self.key.weight', 'aux_bert.encoder.layer.0.output.dense.weight', 'aux_bert.encoder.layer.3.attention.output.dense.bias', 'aux_bert.encoder.layer.4.attention.output.LayerNorm.weight', 'aux_bert.encoder.layer.3.output.dense.weight', 'generator.roberta.encoder.layer.0.attention.output.dense.weight', 'aux_bert.encoder.layer.1.intermediate.dense.bias', 'aux_bert.encoder.layer.6.intermediate.dense.weight', 'aux_bert.encoder.layer.1.output.LayerNorm.weight', 'aux_bert.embeddings.position_ids', 'aux_bert.encoder.layer.6.attention.self.value.weight', 'generator.roberta.encoder.layer.3.output.dense.weight', 'generator.roberta.encoder.layer.2.attention.output.dense.weight', 'aux_bert.encoder.layer.10.attention.output.dense.bias', 'generator.roberta.encoder.layer.1.attention.self.query.bias', 'generator.roberta.encoder.layer.5.attention.self.query.weight', 'aux_bert.encoder.layer.11.attention.output.dense.weight', 'aux_bert.encoder.layer.1.attention.output.LayerNorm.weight']\n",
      "- This IS expected if you are initializing RobertaModel from the checkpoint of a model trained on another task or with another architecture (e.g. initializing a BertForSequenceClassification model from a BertForPreTraining model).\n",
      "- This IS NOT expected if you are initializing RobertaModel from the checkpoint of a model that you expect to be exactly identical (initializing a BertForSequenceClassification model from a BertForSequenceClassification model).\n",
      "Some weights of RobertaModel were not initialized from the model checkpoint at voidism/diffcse-roberta-base-trans and are newly initialized: ['roberta.pooler.dense.weight', 'roberta.pooler.dense.bias']\n",
      "You should probably TRAIN this model on a down-stream task to be able to use it for predictions and inference.\n"
     ]
    },
    {
     "name": "stdout",
     "output_type": "stream",
     "text": [
      "{'num_epoch': 50, 'model_name': 'voidism/diffcse-roberta-base-trans', 'batch_size': 256, 'max_len': 70, 'lr': 1.964e-05, 'threshold': 0.35, 'lambda': 0.00617, 'k': 1}\n",
      "Epoch: 1 | train_loss: 34.8846 | train_acc: 0.2250 | val_loss: 0.4404 | val_acc: 0.1127\n",
      "Saving model to: models/previous3_test/best_model.pth\n",
      "Epoch: 2 | train_loss: 34.7050 | train_acc: 0.1106 | val_loss: 0.3911 | val_acc: 0.1127\n",
      "Epoch: 3 | train_loss: 34.6395 | train_acc: 0.1104 | val_loss: 0.3810 | val_acc: 0.1127\n",
      "Epoch: 4 | train_loss: 34.5904 | train_acc: 0.1111 | val_loss: 0.3657 | val_acc: 0.1156\n",
      "Saving model to: models/previous3_test/best_model.pth\n",
      "Epoch: 5 | train_loss: 34.5366 | train_acc: 0.1268 | val_loss: 0.3505 | val_acc: 0.1733\n",
      "Saving model to: models/previous3_test/best_model.pth\n",
      "Epoch: 6 | train_loss: 34.4779 | train_acc: 0.1834 | val_loss: 0.3356 | val_acc: 0.3164\n",
      "Saving model to: models/previous3_test/best_model.pth\n",
      "Epoch: 7 | train_loss: 34.4285 | train_acc: 0.3256 | val_loss: 0.3233 | val_acc: 0.4580\n",
      "Saving model to: models/previous3_test/best_model.pth\n",
      "Epoch: 8 | train_loss: 34.3713 | train_acc: 0.4285 | val_loss: 0.3203 | val_acc: 0.4665\n",
      "Saving model to: models/previous3_test/best_model.pth\n",
      "Epoch: 9 | train_loss: 34.3127 | train_acc: 0.5120 | val_loss: 0.3229 | val_acc: 0.5123\n",
      "Saving model to: models/previous3_test/best_model.pth\n",
      "Epoch: 10 | train_loss: 34.2595 | train_acc: 0.6065 | val_loss: 0.3039 | val_acc: 0.5669\n",
      "Saving model to: models/previous3_test/model_10.pth\n",
      "Saving model to: models/previous3_test/best_model.pth\n",
      "Epoch: 11 | train_loss: 34.2059 | train_acc: 0.7041 | val_loss: 0.3018 | val_acc: 0.6004\n",
      "Saving model to: models/previous3_test/best_model.pth\n",
      "Epoch: 12 | train_loss: 34.1501 | train_acc: 0.7786 | val_loss: 0.3170 | val_acc: 0.5807\n",
      "Epoch: 13 | train_loss: 34.1027 | train_acc: 0.8235 | val_loss: 0.2991 | val_acc: 0.6095\n",
      "Saving model to: models/previous3_test/best_model.pth\n",
      "Epoch: 14 | train_loss: 34.0511 | train_acc: 0.8530 | val_loss: 0.2916 | val_acc: 0.6300\n",
      "Saving model to: models/previous3_test/best_model.pth\n",
      "trigger times: 1\n",
      "Epoch: 15 | train_loss: 33.9945 | train_acc: 0.8784 | val_loss: 0.3014 | val_acc: 0.6355\n",
      "Saving model to: models/previous3_test/best_model.pth\n",
      "Epoch: 16 | train_loss: 33.9527 | train_acc: 0.8800 | val_loss: 0.3023 | val_acc: 0.6559\n",
      "Saving model to: models/previous3_test/best_model.pth\n",
      "Epoch: 17 | train_loss: 33.9059 | train_acc: 0.8993 | val_loss: 0.2961 | val_acc: 0.6750\n",
      "Saving model to: models/previous3_test/best_model.pth\n",
      "Epoch: 18 | train_loss: 33.8583 | train_acc: 0.9226 | val_loss: 0.3143 | val_acc: 0.6631\n",
      "Epoch: 19 | train_loss: 33.8189 | train_acc: 0.9231 | val_loss: 0.3283 | val_acc: 0.6786\n",
      "Saving model to: models/previous3_test/best_model.pth\n",
      "trigger times: 2\n",
      "Epoch: 20 | train_loss: 33.7796 | train_acc: 0.9297 | val_loss: 0.3340 | val_acc: 0.6907\n",
      "Saving model to: models/previous3_test/model_20.pth\n",
      "Saving model to: models/previous3_test/best_model.pth\n",
      "Epoch: 21 | train_loss: 33.7409 | train_acc: 0.9311 | val_loss: 0.3524 | val_acc: 0.6887\n",
      "Epoch: 22 | train_loss: 33.7003 | train_acc: 0.9328 | val_loss: 0.3535 | val_acc: 0.6850\n",
      "Epoch: 23 | train_loss: 33.6652 | train_acc: 0.9295 | val_loss: 0.3532 | val_acc: 0.6879\n",
      "Epoch: 24 | train_loss: 33.6250 | train_acc: 0.9315 | val_loss: 0.3653 | val_acc: 0.6799\n",
      "Epoch: 25 | train_loss: 33.5859 | train_acc: 0.9364 | val_loss: 0.3601 | val_acc: 0.6817\n",
      "Epoch: 26 | train_loss: 33.5453 | train_acc: 0.9415 | val_loss: 0.3789 | val_acc: 0.6896\n",
      "Epoch: 27 | train_loss: 33.5074 | train_acc: 0.9413 | val_loss: 0.3881 | val_acc: 0.6804\n",
      "Epoch: 28 | train_loss: 33.4677 | train_acc: 0.9376 | val_loss: 0.3951 | val_acc: 0.6786\n",
      "Epoch: 29 | train_loss: 33.4274 | train_acc: 0.9406 | val_loss: 0.4117 | val_acc: 0.6924\n",
      "Saving model to: models/previous3_test/best_model.pth\n",
      "trigger times: 1\n",
      "Epoch: 30 | train_loss: 33.3871 | train_acc: 0.9426 | val_loss: 0.4217 | val_acc: 0.6712\n",
      "Saving model to: models/previous3_test/model_30.pth\n",
      "Epoch: 31 | train_loss: 33.3495 | train_acc: 0.9397 | val_loss: 0.4243 | val_acc: 0.6729\n",
      "Epoch: 32 | train_loss: 33.3105 | train_acc: 0.9362 | val_loss: 0.4266 | val_acc: 0.6826\n",
      "Epoch: 33 | train_loss: 33.2705 | train_acc: 0.9387 | val_loss: 0.4235 | val_acc: 0.6724\n",
      "Epoch: 34 | train_loss: 33.2303 | train_acc: 0.9400 | val_loss: 0.4318 | val_acc: 0.6816\n",
      "Epoch: 35 | train_loss: 33.1896 | train_acc: 0.9435 | val_loss: 0.4280 | val_acc: 0.6656\n",
      "Epoch: 36 | train_loss: 33.1491 | train_acc: 0.9397 | val_loss: 0.4361 | val_acc: 0.6739\n",
      "Epoch: 37 | train_loss: 33.1059 | train_acc: 0.9439 | val_loss: 0.4629 | val_acc: 0.6614\n",
      "Epoch: 38 | train_loss: 33.0657 | train_acc: 0.9450 | val_loss: 0.4875 | val_acc: 0.6747\n",
      "Epoch: 39 | train_loss: 33.0248 | train_acc: 0.9466 | val_loss: 0.4833 | val_acc: 0.6902\n",
      "trigger times: 1\n",
      "Epoch: 40 | train_loss: 32.9847 | train_acc: 0.9415 | val_loss: 0.4871 | val_acc: 0.7038\n",
      "Saving model to: models/previous3_test/model_40.pth\n",
      "Saving model to: models/previous3_test/best_model.pth\n",
      "Epoch: 41 | train_loss: 32.9436 | train_acc: 0.9454 | val_loss: 0.4868 | val_acc: 0.6821\n",
      "Epoch: 42 | train_loss: 32.9029 | train_acc: 0.9431 | val_loss: 0.5185 | val_acc: 0.6998\n",
      "Epoch: 43 | train_loss: 32.8629 | train_acc: 0.9433 | val_loss: 0.5094 | val_acc: 0.6986\n",
      "Epoch: 44 | train_loss: 32.8218 | train_acc: 0.9466 | val_loss: 0.5011 | val_acc: 0.6862\n",
      "Epoch: 45 | train_loss: 32.7796 | train_acc: 0.9471 | val_loss: 0.4979 | val_acc: 0.6707\n",
      "Epoch: 46 | train_loss: 32.7368 | train_acc: 0.9434 | val_loss: 0.5394 | val_acc: 0.6493\n",
      "Epoch: 47 | train_loss: 32.6959 | train_acc: 0.9450 | val_loss: 0.5671 | val_acc: 0.6544\n",
      "Epoch: 48 | train_loss: 32.6556 | train_acc: 0.9419 | val_loss: 0.5725 | val_acc: 0.6557\n",
      "Epoch: 49 | train_loss: 32.6119 | train_acc: 0.9473 | val_loss: 0.5683 | val_acc: 0.6596\n",
      "trigger times: 1\n",
      "Epoch: 50 | train_loss: 32.5733 | train_acc: 0.9418 | val_loss: 0.5824 | val_acc: 0.6646\n",
      "Saving model to: models/previous3_test/model_50.pth\n"
     ]
    }
   ],
   "source": [
    "from optimizer import Lion\n",
    "from transformers import AutoConfig, AutoModelForSequenceClassification,AutoModel\n",
    "import torch.nn as nn\n",
    "device = torch.device(\"cuda:0\" if torch.cuda.is_available() else \"cpu\")\n",
    "# model_config = AutoConfig.from_pretrained(config['model_name'])\n",
    "# # model_config.num_labels = len(train_dataset.mlb.classes_)\n",
    "# # model = AutoModelForSequenceClassification.from_pretrained(config[\"model_name\"],config=model_config)\n",
    "# model = AutoModelForSequenceClassification.from_pretrained(config[\"model_name\"], num_labels=len(train_dataset.mlb.classes_))\n",
    "model = RoBERTaClassifier(config[\"model_name\"], len(train_dataset.mlb.classes_))\n",
    "model.to(device)\n",
    "optimizer = Lion([\n",
    "    {'params': model.parameters(), 'lr': config['lr']},\n",
    "    # {'params': list(model.parameters()), 'lr': config['lr']}\n",
    "], lr=config[\"lr\"])\n",
    "trainer = Trainer(model, optimizer,device, config)\n",
    "res = trainer.train(epochs=config['num_epoch'], train_dataloader=train_dataloader, val_dataloader=val_dataloader, patience=100, model_name=\"previous3_test\", scheduler=None)\n"
   ]
  },
  {
   "cell_type": "code",
   "execution_count": 12,
   "metadata": {},
   "outputs": [],
   "source": [
    "trainer.model.load_state_dict(torch.load(\"./models/previous3_test/best_model.pth\"))\n",
    "trainer.model.eval()\n",
    "trainer.model.to(device)\n",
    "test_res = trainer.test_step(test_dataloader)\n",
    "test_data = pd.read_csv('dataset/test.tsv', sep='\\t')\n",
    "test_res.reset_index(drop=True,inplace=True)\n",
    "test_res.index = test_data.id\n",
    "test_res.to_csv(\"./submission.csv\", index_label=\"id\")"
   ]
  },
  {
   "cell_type": "code",
   "execution_count": 13,
   "metadata": {},
   "outputs": [
    {
     "data": {
      "text/plain": [
       "<Axes: >"
      ]
     },
     "execution_count": 13,
     "metadata": {},
     "output_type": "execute_result"
    },
    {
     "data": {
      "image/png": "[encoded data removed]",
      "text/plain": [
       "<Figure size 640x480 with 1 Axes>"
      ]
     },
     "metadata": {},
     "output_type": "display_data"
    }
   ],
   "source": [
    "import matplotlib.pyplot as plt\n",
    "import pandas as pd\n",
    "df = pd.DataFrame(res)\n",
    "df.iloc[:,1:].plot()    "
   ]
  },
  {
   "cell_type": "code",
   "execution_count": 14,
   "metadata": {},
   "outputs": [
    {
     "data": {
      "text/plain": [
       "(39, 0.7038186985490906)"
      ]
     },
     "execution_count": 14,
     "metadata": {},
     "output_type": "execute_result"
    }
   ],
   "source": [
    "df['val_acc'].tolist().index(df['val_acc'].max()),df['val_acc'].max()"
   ]
  },
  {
   "cell_type": "code",
   "execution_count": null,
   "metadata": {},
   "outputs": [],
   "source": []
  }
 ],
 "metadata": {
  "kernelspec": {
   "display_name": "hw2",
   "language": "python",
   "name": "python3"
  },
  "language_info": {
   "codemirror_mode": {
    "name": "ipython",
    "version": 3
   },
   "file_extension": ".py",
   "mimetype": "text/x-python",
   "name": "python",
   "nbconvert_exporter": "python",
   "pygments_lexer": "ipython3",
   "version": "3.9.18"
  }
 },
 "nbformat": 4,
 "nbformat_minor": 2
}
